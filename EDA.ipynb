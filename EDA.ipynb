{
 "cells": [
  {
   "cell_type": "markdown",
   "metadata": {},
   "source": [
    "# Performing EDA\n",
    "\n",
    "## Performing Data Trandformation"
   ]
  },
  {
   "cell_type": "code",
   "execution_count": null,
   "metadata": {},
   "outputs": [],
   "source": [
    "import pandas as pd\n",
    "from data_transform import DataTransform\n",
    "from data_frame_info import DataFrameInfo\n",
    "from data_frame_transform import DataFrameTransform\n",
    "from plotter import Plotter\n",
    "\n",
    "loandata_df = load_df('loan_data.csv')\n",
    "data_transform = DataTransform(loandata_df)\n",
    "\n",
    "excess_symbols_columns = ['term']\n",
    "\n",
    "for column in excess_symbols_columns:\n",
    "    data_transform.convert_string_to_integer(column)\n",
    "\n",
    "date_columns = ['issue_date', 'earliest_credit_line', 'last_payment_date', 'next_payment_date', 'last_credit_pull_date']\n",
    "\n",
    "for column in date_columns:\n",
    "    data_transform.convert_to_date(column)\n",
    "\n",
    "categorical_columns = ['grade', 'sub_grade', 'employment_length' ,'home_ownership', 'verification_status', 'loan_status', 'purpose', 'application_type']\n",
    "\n",
    "for column in categorical_columns_columns:\n",
    "    data_transform.convert_to_categorical(column)\n",
    "\n",
    "transformed_loandata_df = loandata_df.copy()\n"
   ]
  }
 ],
 "metadata": {
  "kernelspec": {
   "display_name": "Python 3",
   "language": "python",
   "name": "python3"
  },
  "language_info": {
   "codemirror_mode": {
    "name": "ipython",
    "version": 3
   },
   "file_extension": ".py",
   "mimetype": "text/x-python",
   "name": "python",
   "nbconvert_exporter": "python",
   "pygments_lexer": "ipython3",
   "version": "3.12.3"
  }
 },
 "nbformat": 4,
 "nbformat_minor": 2
}
